{
 "cells": [
  {
   "cell_type": "markdown",
   "metadata": {},
   "source": [
    "# STEPS \n",
    "#IMPORT LIBRARIES\n",
    "2.PREPROCESS IMACE:\n",
    "    ADD SOME PREPROCESSING FEATURES TO THE REAS=D DATA WHICH \n",
    "    IS CALLED AS ARGUMENTATION FOR THIS WE USE IMAGE \n",
    "    DATA GENERATOR CLASS CREATE A FUNCTION\n",
    "    READ THE DATASET AND APPLY PREPROCESSING FEATURES \n",
    "    WHICH ARE DECLARED ABOVE\n",
    "   3.INITIALISE THE MODEL \n",
    "4.ADD CONV(IMAGE(SHAPE,HOWMANY FEATURE DECTOR,SIZE)\n",
    "5.ADD POOLIN(POOLING SIZE)\n",
    "6.ADD FLATENNING LAYER_INPUT LAYER\n",
    "7.ADD DENSE LAYERS(HIDDEN,OUT)(UNIT,WEIGHTS,ACTIVATION)\n",
    "8.CONFIGURE THE LEARNING(OPTIMIZER ,LOSS, METRICS)\n",
    "9.FIT\n",
    "10.SAVE THE B=MODEL"
   ]
  },
  {
   "cell_type": "raw",
   "metadata": {},
   "source": [
    "CREATE MAIN FOLDER\n",
    "TEST FOLDER:\n",
    "CLASSES\n",
    "TRAIN FOLDER:\n",
    "CLASSES\n",
    "70% FOR TRAIN\n",
    "30% FOR TESTING"
   ]
  },
  {
   "cell_type": "code",
   "execution_count": 1,
   "metadata": {},
   "outputs": [
    {
     "name": "stderr",
     "output_type": "stream",
     "text": [
      "Using TensorFlow backend.\n"
     ]
    }
   ],
   "source": [
    "from keras.models import Sequential\n",
    "from keras.layers import Dense\n",
    "from keras.layers import Convolution2D\n",
    "from keras.layers import MaxPooling2D\n",
    "from keras.layers import Flatten"
   ]
  },
  {
   "cell_type": "code",
   "execution_count": 2,
   "metadata": {},
   "outputs": [],
   "source": [
    "from keras.preprocessing.image import ImageDataGenerator\n",
    "train_datagen = ImageDataGenerator(rescale =1./255,shear_range = 0.2,zoom_range = 0.2,horizontal_flip = True)\n",
    "test_datagen = ImageDataGenerator(rescale =1./255)\n",
    "#0 to 1 \n",
    "#100 images-zoom ,zoom out hori 100*3=300\n",
    "#sher_range_zoome_0.2=20%\n",
    "#these preprocessing are only for trainig not for testing"
   ]
  },
  {
   "cell_type": "code",
   "execution_count": 3,
   "metadata": {},
   "outputs": [
    {
     "name": "stdout",
     "output_type": "stream",
     "text": [
      "Found 550 images belonging to 5 classes.\n",
      "Found 2205 images belonging to 5 classes.\n"
     ]
    }
   ],
   "source": [
    "x_train = train_datagen.flow_from_directory(r\"E:\\miniproject\\Skin Diseases\\test\", target_size = (64,64),batch_size = 32, class_mode=\"categorical\")\n",
    "x_test = test_datagen.flow_from_directory(r\"E:\\miniproject\\Skin Diseases\\train\", target_size = (64,64),batch_size = 32, class_mode=\"categorical\")"
   ]
  },
  {
   "cell_type": "code",
   "execution_count": 4,
   "metadata": {},
   "outputs": [],
   "source": [
    "import keras\n",
    "from keras.models import Sequential\n",
    "from keras.layers import Dense\n"
   ]
  },
  {
   "cell_type": "code",
   "execution_count": 5,
   "metadata": {},
   "outputs": [
    {
     "name": "stdout",
     "output_type": "stream",
     "text": [
      "WARNING:tensorflow:From E:\\Anaconda\\lib\\site-packages\\keras\\backend\\tensorflow_backend.py:74: The name tf.get_default_graph is deprecated. Please use tf.compat.v1.get_default_graph instead.\n",
      "\n"
     ]
    }
   ],
   "source": [
    "model = Sequential()"
   ]
  },
  {
   "cell_type": "code",
   "execution_count": 6,
   "metadata": {},
   "outputs": [
    {
     "name": "stdout",
     "output_type": "stream",
     "text": [
      "WARNING:tensorflow:From E:\\Anaconda\\lib\\site-packages\\keras\\backend\\tensorflow_backend.py:517: The name tf.placeholder is deprecated. Please use tf.compat.v1.placeholder instead.\n",
      "\n",
      "WARNING:tensorflow:From E:\\Anaconda\\lib\\site-packages\\keras\\backend\\tensorflow_backend.py:4138: The name tf.random_uniform is deprecated. Please use tf.random.uniform instead.\n",
      "\n"
     ]
    }
   ],
   "source": [
    "model.add(Convolution2D(32,(3,3),input_shape = (64,64,3),activation = \"relu\"))"
   ]
  },
  {
   "cell_type": "code",
   "execution_count": 7,
   "metadata": {},
   "outputs": [
    {
     "name": "stdout",
     "output_type": "stream",
     "text": [
      "WARNING:tensorflow:From E:\\Anaconda\\lib\\site-packages\\keras\\backend\\tensorflow_backend.py:3976: The name tf.nn.max_pool is deprecated. Please use tf.nn.max_pool2d instead.\n",
      "\n"
     ]
    }
   ],
   "source": [
    "model.add(MaxPooling2D(pool_size = (2,2)))\n"
   ]
  },
  {
   "cell_type": "code",
   "execution_count": 8,
   "metadata": {},
   "outputs": [],
   "source": [
    "model.add(Flatten())\n"
   ]
  },
  {
   "cell_type": "code",
   "execution_count": 9,
   "metadata": {},
   "outputs": [
    {
     "name": "stderr",
     "output_type": "stream",
     "text": [
      "E:\\Anaconda\\lib\\site-packages\\ipykernel_launcher.py:1: UserWarning: Update your `Dense` call to the Keras 2 API: `Dense(units=240, activation=\"relu\", kernel_initializer=\"random_uniform\")`\n",
      "  \"\"\"Entry point for launching an IPython kernel.\n"
     ]
    }
   ],
   "source": [
    "model.add(Dense(units = 240,init = \"random_uniform\",activation = \"relu\"))"
   ]
  },
  {
   "cell_type": "code",
   "execution_count": 10,
   "metadata": {},
   "outputs": [
    {
     "name": "stderr",
     "output_type": "stream",
     "text": [
      "E:\\Anaconda\\lib\\site-packages\\ipykernel_launcher.py:1: UserWarning: Update your `Dense` call to the Keras 2 API: `Dense(units=190, activation=\"relu\", kernel_initializer=\"random_uniform\")`\n",
      "  \"\"\"Entry point for launching an IPython kernel.\n"
     ]
    }
   ],
   "source": [
    "model.add(Dense(units = 190,init = \"random_uniform\",activation = \"relu\"))"
   ]
  },
  {
   "cell_type": "code",
   "execution_count": 11,
   "metadata": {},
   "outputs": [
    {
     "name": "stderr",
     "output_type": "stream",
     "text": [
      "E:\\Anaconda\\lib\\site-packages\\ipykernel_launcher.py:1: UserWarning: Update your `Dense` call to the Keras 2 API: `Dense(units=128, activation=\"relu\", kernel_initializer=\"random_uniform\")`\n",
      "  \"\"\"Entry point for launching an IPython kernel.\n"
     ]
    }
   ],
   "source": [
    "model.add(Dense(units = 128,init = \"random_uniform\",activation = \"relu\"))"
   ]
  },
  {
   "cell_type": "code",
   "execution_count": 12,
   "metadata": {},
   "outputs": [
    {
     "name": "stderr",
     "output_type": "stream",
     "text": [
      "E:\\Anaconda\\lib\\site-packages\\ipykernel_launcher.py:1: UserWarning: Update your `Dense` call to the Keras 2 API: `Dense(units=5, activation=\"softmax\", kernel_initializer=\"random_uniform\")`\n",
      "  \"\"\"Entry point for launching an IPython kernel.\n"
     ]
    }
   ],
   "source": [
    "model.add(Dense(units = 5 ,init = \"random_uniform\", activation = \"softmax\"))"
   ]
  },
  {
   "cell_type": "code",
   "execution_count": 13,
   "metadata": {},
   "outputs": [
    {
     "name": "stdout",
     "output_type": "stream",
     "text": [
      "WARNING:tensorflow:From E:\\Anaconda\\lib\\site-packages\\keras\\optimizers.py:790: The name tf.train.Optimizer is deprecated. Please use tf.compat.v1.train.Optimizer instead.\n",
      "\n",
      "WARNING:tensorflow:From E:\\Anaconda\\lib\\site-packages\\keras\\backend\\tensorflow_backend.py:3295: The name tf.log is deprecated. Please use tf.math.log instead.\n",
      "\n"
     ]
    }
   ],
   "source": [
    "model.compile(optimizer = \"adam\",loss = \"categorical_crossentropy\",metrics = [\"accuracy\"])"
   ]
  },
  {
   "cell_type": "code",
   "execution_count": 14,
   "metadata": {},
   "outputs": [
    {
     "data": {
      "text/plain": [
       "{'Acne': 0, 'Melanoma': 1, 'Psoriasis': 2, 'Rosacea': 3, 'Vitiligo': 4}"
      ]
     },
     "execution_count": 14,
     "metadata": {},
     "output_type": "execute_result"
    }
   ],
   "source": [
    "x_train.class_indices"
   ]
  },
  {
   "cell_type": "code",
   "execution_count": 15,
   "metadata": {},
   "outputs": [
    {
     "name": "stdout",
     "output_type": "stream",
     "text": [
      "WARNING:tensorflow:From E:\\Anaconda\\lib\\site-packages\\tensorflow\\python\\ops\\math_grad.py:1250: add_dispatch_support.<locals>.wrapper (from tensorflow.python.ops.array_ops) is deprecated and will be removed in a future version.\n",
      "Instructions for updating:\n",
      "Use tf.where in 2.0, which has the same broadcast rule as np.where\n",
      "WARNING:tensorflow:From E:\\Anaconda\\lib\\site-packages\\keras\\backend\\tensorflow_backend.py:986: The name tf.assign_add is deprecated. Please use tf.compat.v1.assign_add instead.\n",
      "\n",
      "Epoch 1/15\n",
      "47/47 [==============================] - 24s 516ms/step - loss: 1.5919 - acc: 0.2542 - val_loss: 1.4986 - val_acc: 0.3031\n",
      "Epoch 2/15\n",
      "47/47 [==============================] - 21s 450ms/step - loss: 1.4937 - acc: 0.3286 - val_loss: 1.4977 - val_acc: 0.2922\n",
      "Epoch 3/15\n",
      "47/47 [==============================] - 21s 452ms/step - loss: 1.4343 - acc: 0.3626 - val_loss: 1.4646 - val_acc: 0.3609\n",
      "Epoch 4/15\n",
      "47/47 [==============================] - 19s 401ms/step - loss: 1.3783 - acc: 0.3761 - val_loss: 1.6162 - val_acc: 0.3532\n",
      "Epoch 5/15\n",
      "47/47 [==============================] - 18s 385ms/step - loss: 1.3104 - acc: 0.4275 - val_loss: 1.5918 - val_acc: 0.4188\n",
      "Epoch 6/15\n",
      "47/47 [==============================] - 18s 384ms/step - loss: 1.1975 - acc: 0.5075 - val_loss: 1.6583 - val_acc: 0.3812\n",
      "Epoch 7/15\n",
      "47/47 [==============================] - 19s 394ms/step - loss: 1.1348 - acc: 0.5333 - val_loss: 1.5965 - val_acc: 0.4019\n",
      "Epoch 8/15\n",
      "47/47 [==============================] - 18s 386ms/step - loss: 1.0475 - acc: 0.5554 - val_loss: 1.5740 - val_acc: 0.4047\n",
      "Epoch 9/15\n",
      "47/47 [==============================] - 20s 426ms/step - loss: 0.9954 - acc: 0.5731 - val_loss: 1.5885 - val_acc: 0.3844\n",
      "Epoch 10/15\n",
      "47/47 [==============================] - 22s 471ms/step - loss: 0.9101 - acc: 0.6268 - val_loss: 1.8074 - val_acc: 0.4156\n",
      "Epoch 11/15\n",
      "47/47 [==============================] - 21s 450ms/step - loss: 0.8273 - acc: 0.6743 - val_loss: 1.9876 - val_acc: 0.4286\n",
      "Epoch 12/15\n",
      "47/47 [==============================] - 20s 436ms/step - loss: 0.6890 - acc: 0.7328 - val_loss: 2.0732 - val_acc: 0.4578\n",
      "Epoch 13/15\n",
      "47/47 [==============================] - 21s 449ms/step - loss: 0.6387 - acc: 0.7523 - val_loss: 2.1185 - val_acc: 0.4641\n",
      "Epoch 14/15\n",
      "47/47 [==============================] - 21s 437ms/step - loss: 0.6314 - acc: 0.7599 - val_loss: 1.9672 - val_acc: 0.4239\n",
      "Epoch 15/15\n",
      "47/47 [==============================] - 20s 428ms/step - loss: 0.5980 - acc: 0.7942 - val_loss: 2.0008 - val_acc: 0.4172\n"
     ]
    },
    {
     "data": {
      "text/plain": [
       "<keras.callbacks.History at 0x1f1c0382448>"
      ]
     },
     "execution_count": 15,
     "metadata": {},
     "output_type": "execute_result"
    }
   ],
   "source": [
    "model.fit_generator(x_train, steps_per_epoch = 47,epochs = 15 ,validation_data = x_test , validation_steps = 20,)"
   ]
  },
  {
   "cell_type": "code",
   "execution_count": 16,
   "metadata": {},
   "outputs": [],
   "source": [
    "model.save(\"Skin_Diseases_1.h5\")"
   ]
  },
  {
   "cell_type": "code",
   "execution_count": null,
   "metadata": {},
   "outputs": [],
   "source": []
  },
  {
   "cell_type": "code",
   "execution_count": null,
   "metadata": {},
   "outputs": [],
   "source": []
  }
 ],
 "metadata": {
  "kernelspec": {
   "display_name": "Python 3",
   "language": "python",
   "name": "python3"
  },
  "language_info": {
   "codemirror_mode": {
    "name": "ipython",
    "version": 3
   },
   "file_extension": ".py",
   "mimetype": "text/x-python",
   "name": "python",
   "nbconvert_exporter": "python",
   "pygments_lexer": "ipython3",
   "version": "3.7.4"
  }
 },
 "nbformat": 4,
 "nbformat_minor": 2
}
